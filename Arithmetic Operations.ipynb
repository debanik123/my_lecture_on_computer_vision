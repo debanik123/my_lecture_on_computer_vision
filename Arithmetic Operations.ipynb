{
 "cells": [
  {
   "cell_type": "code",
   "execution_count": 1,
   "metadata": {},
   "outputs": [],
   "source": [
    "import cv2\n",
    "import numpy as np"
   ]
  },
  {
   "cell_type": "code",
   "execution_count": 2,
   "metadata": {},
   "outputs": [],
   "source": [
    "image = cv2.imread(\"new.jpg\")\n",
    "M = np.ones(image.shape,dtype=\"uint8\") *165\n",
    "\n",
    "add = cv2.add(image,M)"
   ]
  },
  {
   "cell_type": "code",
   "execution_count": 4,
   "metadata": {},
   "outputs": [],
   "source": [
    "cv2.imshow(\"add\",add)\n",
    "cv2.waitKey(0)\n",
    "cv2.destroyAllWindows()"
   ]
  },
  {
   "cell_type": "code",
   "execution_count": 5,
   "metadata": {},
   "outputs": [],
   "source": [
    "subtract = cv2.subtract(image,M)\n",
    "cv2.imshow(\"subtract\",subtract)\n",
    "cv2.waitKey(0)\n",
    "cv2.destroyAllWindows()"
   ]
  },
  {
   "cell_type": "code",
   "execution_count": 6,
   "metadata": {},
   "outputs": [
    {
     "name": "stdout",
     "output_type": "stream",
     "text": [
      "[[[165 165 165]\n",
      "  [165 165 165]\n",
      "  [165 165 165]\n",
      "  ...\n",
      "  [165 165 165]\n",
      "  [165 165 165]\n",
      "  [165 165 165]]\n",
      "\n",
      " [[165 165 165]\n",
      "  [165 165 165]\n",
      "  [165 165 165]\n",
      "  ...\n",
      "  [165 165 165]\n",
      "  [165 165 165]\n",
      "  [165 165 165]]\n",
      "\n",
      " [[165 165 165]\n",
      "  [165 165 165]\n",
      "  [165 165 165]\n",
      "  ...\n",
      "  [165 165 165]\n",
      "  [165 165 165]\n",
      "  [165 165 165]]\n",
      "\n",
      " ...\n",
      "\n",
      " [[165 165 165]\n",
      "  [165 165 165]\n",
      "  [165 165 165]\n",
      "  ...\n",
      "  [165 165 165]\n",
      "  [165 165 165]\n",
      "  [165 165 165]]\n",
      "\n",
      " [[165 165 165]\n",
      "  [165 165 165]\n",
      "  [165 165 165]\n",
      "  ...\n",
      "  [165 165 165]\n",
      "  [165 165 165]\n",
      "  [165 165 165]]\n",
      "\n",
      " [[165 165 165]\n",
      "  [165 165 165]\n",
      "  [165 165 165]\n",
      "  ...\n",
      "  [165 165 165]\n",
      "  [165 165 165]\n",
      "  [165 165 165]]]\n"
     ]
    }
   ],
   "source": [
    "print(M)"
   ]
  },
  {
   "cell_type": "code",
   "execution_count": 7,
   "metadata": {},
   "outputs": [
    {
     "name": "stdout",
     "output_type": "stream",
     "text": [
      "[[[255 255 226]\n",
      "  [255 255 226]\n",
      "  [255 255 227]\n",
      "  ...\n",
      "  [255 255 165]\n",
      "  [255 255 165]\n",
      "  [255 255 165]]\n",
      "\n",
      " [[255 255 228]\n",
      "  [255 255 228]\n",
      "  [255 255 229]\n",
      "  ...\n",
      "  [255 255 166]\n",
      "  [255 255 166]\n",
      "  [255 255 166]]\n",
      "\n",
      " [[255 255 230]\n",
      "  [255 255 230]\n",
      "  [255 255 230]\n",
      "  ...\n",
      "  [255 255 167]\n",
      "  [255 255 167]\n",
      "  [255 255 167]]\n",
      "\n",
      " ...\n",
      "\n",
      " [[255 255 255]\n",
      "  [255 255 255]\n",
      "  [255 255 255]\n",
      "  ...\n",
      "  [255 255 255]\n",
      "  [255 255 255]\n",
      "  [255 255 255]]\n",
      "\n",
      " [[255 255 255]\n",
      "  [255 255 255]\n",
      "  [255 255 255]\n",
      "  ...\n",
      "  [255 255 255]\n",
      "  [255 255 255]\n",
      "  [255 255 255]]\n",
      "\n",
      " [[255 255 255]\n",
      "  [255 255 255]\n",
      "  [255 255 255]\n",
      "  ...\n",
      "  [255 255 255]\n",
      "  [255 255 255]\n",
      "  [255 255 255]]]\n"
     ]
    }
   ],
   "source": [
    "print(add)"
   ]
  },
  {
   "cell_type": "code",
   "execution_count": 8,
   "metadata": {},
   "outputs": [
    {
     "name": "stdout",
     "output_type": "stream",
     "text": [
      "[[[12  0  0]\n",
      "  [12  0  0]\n",
      "  [13  0  0]\n",
      "  ...\n",
      "  [ 8  0  0]\n",
      "  [ 8  0  0]\n",
      "  [ 6  0  0]]\n",
      "\n",
      " [[14  0  0]\n",
      "  [14  0  0]\n",
      "  [16  0  0]\n",
      "  ...\n",
      "  [ 9  0  0]\n",
      "  [ 9  0  0]\n",
      "  [ 7  0  0]]\n",
      "\n",
      " [[17  0  0]\n",
      "  [17  0  0]\n",
      "  [17  0  0]\n",
      "  ...\n",
      "  [10  0  0]\n",
      "  [10  0  0]\n",
      "  [ 8  0  0]]\n",
      "\n",
      " ...\n",
      "\n",
      " [[90 90 90]\n",
      "  [90 90 90]\n",
      "  [90 90 90]\n",
      "  ...\n",
      "  [90 90 90]\n",
      "  [90 90 90]\n",
      "  [90 90 90]]\n",
      "\n",
      " [[90 90 90]\n",
      "  [90 90 90]\n",
      "  [90 90 90]\n",
      "  ...\n",
      "  [90 90 90]\n",
      "  [90 90 90]\n",
      "  [90 90 90]]\n",
      "\n",
      " [[90 90 90]\n",
      "  [90 90 90]\n",
      "  [90 90 90]\n",
      "  ...\n",
      "  [90 90 90]\n",
      "  [90 90 90]\n",
      "  [90 90 90]]]\n"
     ]
    }
   ],
   "source": [
    "print(subtract)"
   ]
  },
  {
   "cell_type": "code",
   "execution_count": null,
   "metadata": {},
   "outputs": [],
   "source": []
  }
 ],
 "metadata": {
  "kernelspec": {
   "display_name": "Python 3",
   "language": "python",
   "name": "python3"
  },
  "language_info": {
   "codemirror_mode": {
    "name": "ipython",
    "version": 3
   },
   "file_extension": ".py",
   "mimetype": "text/x-python",
   "name": "python",
   "nbconvert_exporter": "python",
   "pygments_lexer": "ipython3",
   "version": "3.7.3"
  }
 },
 "nbformat": 4,
 "nbformat_minor": 2
}
